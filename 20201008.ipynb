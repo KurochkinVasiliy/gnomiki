{
 "cells": [
  {
   "cell_type": "markdown",
   "metadata": {},
   "source": [
    "#### Написать функцию, где на вход подается список координат, а на выходе показывать количество прямоугольников, которые получатся из этих координат"
   ]
  },
  {
   "cell_type": "code",
   "execution_count": 148,
   "metadata": {},
   "outputs": [],
   "source": [
    "import random\n",
    "import itertools\n",
    "from matplotlib import pyplot as plt\n",
    "import matplotlib.patches as patches\n",
    "points_cnt = 30\n",
    "min_range = 1\n",
    "max_range = 10\n",
    "coords = [(random.randint(min_range,max_range),random.randint(min_range,max_range)) for _ in range(points_cnt)]"
   ]
  },
  {
   "cell_type": "code",
   "execution_count": 149,
   "metadata": {},
   "outputs": [
    {
     "name": "stdout",
     "output_type": "stream",
     "text": [
      "(2, 8) (4, 8) (2, 2) (4, 2)\n",
      "(2, 8) (7, 8) (2, 2) (7, 2)\n",
      "(6, 8) (7, 8) (6, 5) (7, 5)\n",
      "(4, 5) (7, 5) (4, 2) (7, 2)\n",
      "(4, 8) (6, 8) (4, 5) (6, 5)\n",
      "(4, 8) (7, 8) (4, 2) (7, 2)\n",
      "(4, 8) (7, 8) (4, 5) (7, 5)\n",
      "(4, 4) (9, 4) (4, 2) (9, 2)\n",
      "(1, 10) (6, 10) (1, 5) (6, 5)\n"
     ]
    }
   ],
   "source": [
    "boxes = []\n",
    "for a,b,c,d in itertools.product(list(set(coords)),repeat=4):\n",
    "    if (a[1]==b[1]) & (c[1]==d[1]) & (a[0]==c[0]) & (b[0]==d[0]) & (a[0]<b[0]) & (a[1]>c[1]):\n",
    "        boxes.append([a,b,c,d])\n",
    "        print(a,b,c,d)"
   ]
  },
  {
   "cell_type": "code",
   "execution_count": 150,
   "metadata": {},
   "outputs": [
    {
     "data": {
      "image/png": "[encoded data removed]",
      "text/plain": [
       "<Figure size 432x288 with 1 Axes>"
      ]
     },
     "metadata": {
      "needs_background": "light"
     },
     "output_type": "display_data"
    }
   ],
   "source": [
    "boxes_points = list(itertools.chain(*boxes))\n",
    "plt.scatter([x[0] for x in coords if x not in boxes_points], \n",
    "            [x[1] for x in coords if x not in boxes_points], c='b' )\n",
    "plt.scatter([x[0] for x in coords if x in boxes_points], \n",
    "            [x[1] for x in coords if x in boxes_points], c='r' )\n",
    "\n",
    "for box in boxes:\n",
    "    a,b,c,d = box\n",
    "    width = b[0] - a[0]\n",
    "    height = c[1] - a[1]\n",
    "    rect = patches.Rectangle((a[0], a[1]),\n",
    "                             width,height,linewidth=1,edgecolor='r',facecolor='none')\n",
    "    plt.gca().add_patch(rect)\n",
    "    "
   ]
  },
  {
   "cell_type": "code",
   "execution_count": null,
   "metadata": {},
   "outputs": [],
   "source": []
  }
 ],
 "metadata": {
  "kernelspec": {
   "display_name": "Python 3",
   "language": "python",
   "name": "python3"
  },
  "language_info": {
   "codemirror_mode": {
    "name": "ipython",
    "version": 3
   },
   "file_extension": ".py",
   "mimetype": "text/x-python",
   "name": "python",
   "nbconvert_exporter": "python",
   "pygments_lexer": "ipython3",
   "version": "3.8.2"
  }
 },
 "nbformat": 4,
 "nbformat_minor": 4
}
